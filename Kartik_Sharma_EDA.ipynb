import pandas as pd
import matplotlib.pyplot as plt
import seaborn as sns

# Load the datasets
customers_path = "Customers.csv"
products_path = "Products.csv"
transactions_path = "Transactions.csv"

customers_df = pd.read_csv(customers_path)
products_df = pd.read_csv(products_path)
transactions_df = pd.read_csv(transactions_path)

# Convert date columns to datetime
customers_df['SignupDate'] = pd.to_datetime(customers_df['SignupDate'])
transactions_df['TransactionDate'] = pd.to_datetime(transactions_df['TransactionDate'])

# EDA: Customers Dataset Overview
print("Customers Dataset Overview:")
print(customers_df.info())
print(customers_df['Region'].value_counts())

# Plot customer region distribution
plt.figure(figsize=(8, 5))
sns.countplot(y='Region', data=customers_df, palette="viridis")
plt.title('Customer Distribution by Region')
plt.xlabel('Count')
plt.ylabel('Region')
plt.show()

# EDA: Products Dataset Overview
print("Products Dataset Overview:")
print(products_df.info())
print(products_df['Category'].value_counts())

# Plot product category distribution
plt.figure(figsize=(8, 5))
sns.countplot(y='Category', data=products_df, palette="viridis")
plt.title('Product Distribution by Category')
plt.xlabel('Count')
plt.ylabel('Category')
plt.show()

# EDA: Transactions Dataset Overview
print("Transactions Dataset Overview:")
print(transactions_df.info())
print(transactions_df.describe())

# Analyze customer signup trends
signup_trends = customers_df['SignupDate'].dt.year.value_counts().sort_index()
plt.figure(figsize=(10, 5))
signup_trends.plot(kind='bar', color='skyblue')
plt.title('Customer Signups by Year')
plt.xlabel('Year')
plt.ylabel('Number of Signups')
plt.xticks(rotation=0)
plt.show()

# Analyze transaction trends
transactions_df['TransactionMonth'] = transactions_df['TransactionDate'].dt.to_period('M')
transactions_trends = transactions_df['TransactionMonth'].value_counts().sort_index()
plt.figure(figsize=(12, 6))
transactions_trends.plot(kind='line', marker='o', color='orange')
plt.title('Transaction Trends Over Time')
plt.xlabel('Month')
plt.ylabel('Number of Transactions')
plt.grid()
plt.show()

# High-value customers and top products
# Top 5 customers by transaction value
top_customers = transactions_df.groupby("CustomerID")["TotalValue"].sum().sort_values(ascending=False).head(5)
print("Top 5 Customers by Total Transaction Value:")
print(top_customers)

# Top 5 most purchased products
top_products = transactions_df.groupby("ProductID")["Quantity"].sum().sort_values(ascending=False).head(5).reset_index()
top_products = top_products.merge(products_df, on="ProductID")
print("Top 5 Most Purchased Products:")
print(top_products[['ProductName', 'Quantity']])

# Plot top customers
plt.figure(figsize=(10, 5))
top_customers.plot(kind="bar", color="purple")
plt.title("Top 5 Customers by Total Transaction Value")
plt.xlabel("CustomerID")
plt.ylabel("Total Value (USD)")
plt.xticks(rotation=45)
plt.show()

# Plot top products
plt.figure(figsize=(10, 5))
sns.barplot(data=top_products, x="Quantity", y="ProductName", palette="viridis")
plt.title("Top 5 Most Purchased Products by Quantity")
plt.xlabel("Quantity Purchased")
plt.ylabel("Product Name")
plt.show()