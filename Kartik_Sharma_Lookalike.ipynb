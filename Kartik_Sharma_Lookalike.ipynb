import pandas as pd
from sklearn.metrics.pairwise import cosine_similarity
from sklearn.preprocessing import StandardScaler

# Load the datasets
customers_path = "Customers.csv"
products_path = "Products.csv"
transactions_path = "Transactions.csv"

customers_df = pd.read_csv(customers_path)
products_df = pd.read_csv(products_path)
transactions_df = pd.read_csv(transactions_path)

# Preprocessing
# Merge transactions with customer and product information
merged_df = transactions_df.merge(customers_df, on="CustomerID").merge(products_df, on="ProductID")

# Aggregate transaction data for each customer
customer_profile = merged_df.groupby("CustomerID").agg({
    "TotalValue": "sum",
    "Quantity": "sum",
    "Price": "mean",
    "Region": "first"
}).reset_index()

# One-hot encode the 'Region' column
customer_profile = pd.get_dummies(customer_profile, columns=["Region"], drop_first=True)

# Standardize the numerical columns
scaler = StandardScaler()
customer_features = customer_profile.drop(columns=["CustomerID"])
scaled_features = scaler.fit_transform(customer_features)

# Compute similarity matrix
similarity_matrix = cosine_similarity(scaled_features)

# Get the top 3 similar customers for each customer
lookalike_results = {}
for idx, customer_id in enumerate(customer_profile["CustomerID"]):
    similar_indices = similarity_matrix[idx].argsort()[::-1][1:4]  # Get top 3 similar indices
    similar_customers = [
        (customer_profile.iloc[i]["CustomerID"], similarity_matrix[idx][i])
        for i in similar_indices
    ]
    lookalike_results[customer_id] = similar_customers

# Filter for customers C0001 to C0020
filtered_lookalikes = {key: value for key, value in lookalike_results.items() if key in customers_df["CustomerID"][:20].values}

# Save lookalikes to CSV
lookalike_data = []
for cust_id, similars in filtered_lookalikes.items():
    for similar_cust_id, score in similars:
        lookalike_data.append([cust_id, similar_cust_id, score])

lookalike_df = pd.DataFrame(lookalike_data, columns=["CustomerID", "SimilarCustomerID", "SimilarityScore"])
output_path = "Lookalike.csv"
lookalike_df.to_csv(output_path, index=False)

print(f"Lookalike model results saved to {output_path}.")